{
 "cells": [
  {
   "cell_type": "markdown",
   "source": [
    "# Quickstart: Using the Speech Service from Python\r\n",
    "\r\n",
    "This sample shows how to use the Speech Service through the Speech SDK for Python. It illustrates how the SDK can be used to recognize speech from microphone input.\r\n",
    "\r\n",
    "See the [accompanying article](https://docs.microsoft.com/azure/cognitive-services/speech-service/quickstart-python) on the SDK documentation page for step-by-step instructions.\r\n",
    "\r\n",
    "## Prerequisites\r\n",
    "\r\n",
    "Before you get started, here's a list of prerequisites:\r\n",
    "\r\n",
    "* A subscription key for the Speech service. See [Try the speech service for free](https://docs.microsoft.com/azure/cognitive-services/speech-service/get-started).\r\n",
    "* Python 3.5 or later needs to be installed. Downloads are available [here](https://www.python.org/downloads/).\r\n",
    "* The Python Speech SDK package is available for Windows (x64 or x86), Mac (macOS X version 10.12 or later), and Linux (x64; Ubuntu 16.04 or Ubuntu 18.04).\r\n",
    "* On Ubuntu 16.04 or 18.04, run the following commands for the installation of required packages:\r\n",
    "  ```sh\r\n",
    "  sudo apt-get update\r\n",
    "  sudo apt-get install libssl1.0.0 libasound2\r\n",
    "  ```\r\n",
    "* On Debian 9, run the following commands for the installation of required packages:\r\n",
    "  ```sh\r\n",
    "  sudo apt-get update\r\n",
    "  sudo apt-get install libssl1.0.2 libasound2\r\n",
    "  ```\r\n",
    "* On Windows you need the [Microsoft Visual C++ Redistributable for Visual Studio 2017](https://support.microsoft.com/help/2977003/the-latest-supported-visual-c-downloads) for your platform.\r\n",
    "\r\n",
    "## Get the Speech SDK Python Package\r\n",
    "\r\n",
    "**By downloading the Microsoft Cognitive Services Speech SDK, you acknowledge its license, see [Speech SDK license agreement](https://aka.ms/csspeech/license201809).**\r\n",
    "\r\n",
    "The Cognitive Services Speech SDK Python package can be installed from [pyPI](https://pypi.org/) using this command:\r\n",
    "\r\n",
    "```sh\r\n",
    "pip install azure-cognitiveservices-speech\r\n",
    "```\r\n"
   ],
   "metadata": {}
  },
  {
   "cell_type": "markdown",
   "source": [
    "First, set up some general items. Import the Speech SDK Python:"
   ],
   "metadata": {}
  },
  {
   "cell_type": "code",
   "execution_count": 3,
   "source": [
    "import azure.cognitiveservices.speech as speechsdk"
   ],
   "outputs": [],
   "metadata": {}
  },
  {
   "cell_type": "markdown",
   "source": [
    "Set up the subscription info for the Speech Service:"
   ],
   "metadata": {}
  },
  {
   "cell_type": "code",
   "execution_count": 4,
   "source": [
    "speech_key, service_region = \"YourSubscriptionKey\", \"YourServiceRegion\""
   ],
   "outputs": [],
   "metadata": {}
  },
  {
   "cell_type": "markdown",
   "source": [
    "Create an instance of a speech config with specified subscription key and service region.\n",
    "Replace with your own subscription key and service region (e.g., \"westus\")."
   ],
   "metadata": {}
  },
  {
   "cell_type": "code",
   "execution_count": 5,
   "source": [
    "speech_config = speechsdk.SpeechConfig(subscription=speech_key, region=service_region)"
   ],
   "outputs": [],
   "metadata": {}
  },
  {
   "cell_type": "markdown",
   "source": [
    "Create a recognizer with the given settings. Since no explicit audio config is specified, the default microphone will be used (make sure the audio settings are correct)."
   ],
   "metadata": {}
  },
  {
   "cell_type": "code",
   "execution_count": null,
   "source": [
    "speech_recognizer = speechsdk.SpeechRecognizer(speech_config=speech_config)"
   ],
   "outputs": [],
   "metadata": {}
  },
  {
   "cell_type": "markdown",
   "source": [
    "Starts speech recognition, and returns after a single utterance is recognized. The end of a\n",
    "single utterance is determined by listening for silence at the end or until a maximum of 15\n",
    "seconds of audio is processed.  The task returns the recognition text as result. \n",
    "Note: Since `recognize_once()` returns only a single utterance, it is suitable only for single\n",
    "shot recognition like command or query. \n",
    "For long-running multi-utterance recognition, use `start_continuous_recognition()` instead."
   ],
   "metadata": {}
  },
  {
   "cell_type": "code",
   "execution_count": null,
   "source": [
    "result = speech_recognizer.recognize_once()"
   ],
   "outputs": [],
   "metadata": {}
  },
  {
   "cell_type": "code",
   "execution_count": null,
   "source": [
    "if result.reason == speechsdk.ResultReason.RecognizedSpeech:\r\n",
    "    print(\"Recognized: {}\".format(result.text))\r\n",
    "elif result.reason == speechsdk.ResultReason.NoMatch:\r\n",
    "    print(\"No speech could be recognized: {}\".format(result.no_match_details))\r\n",
    "elif result.reason == speechsdk.ResultReason.Canceled:\r\n",
    "    cancellation_details = result.cancellation_details\r\n",
    "    print(\"Speech Recognition canceled: {}\".format(cancellation_details.reason))\r\n",
    "    if cancellation_details.reason == speechsdk.CancellationReason.Error:\r\n",
    "        print(\"Error details: {}\".format(cancellation_details.error_details))"
   ],
   "outputs": [],
   "metadata": {}
  }
 ],
 "metadata": {
  "kernelspec": {
   "name": "python3",
   "display_name": "Python 3.9.5 64-bit"
  },
  "language_info": {
   "codemirror_mode": {
    "name": "ipython",
    "version": 3
   },
   "file_extension": ".py",
   "mimetype": "text/x-python",
   "name": "python",
   "nbconvert_exporter": "python",
   "pygments_lexer": "ipython3",
   "version": "3.9.5"
  },
  "interpreter": {
   "hash": "63fd5069d213b44bf678585dea6b12cceca9941eaf7f819626cde1f2670de90d"
  }
 },
 "nbformat": 4,
 "nbformat_minor": 2
}